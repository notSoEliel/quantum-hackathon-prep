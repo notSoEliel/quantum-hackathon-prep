{
 "cells": [
  {
   "cell_type": "markdown",
   "id": "01882f85",
   "metadata": {},
   "source": [
    "# 📡 Día 5: Superdense Coding y Teleportación Cuántica\n",
    "\n",
    "Este notebook documenta mi aprendizaje del Día 5 del \"QWorld OQI Hackathon QC Certification Course 2\". Esta sesión marcó el punto medio del curso y nos introdujo en los primeros protocolos de procesamiento de información cuántica verdaderamente no triviales, el **Superdense Coding** y la **Teleportación Cuántica**."
   ]
  },
  {
   "cell_type": "markdown",
   "id": "66a0fbac",
   "metadata": {},
   "source": [
    "## 1. Repaso: El Circuito Toffoli y el CCNOT\n",
    "\n",
    "La sesión comenzó revisando el ejercicio de programación del día anterior. Confirmamos que la compuerta `CCNOT` (Toffoli) en combinación con las compuertas `Hadamard` en el primer qubit generaba un estado en el que la medición del primer qubit resultaba en un **1 con certeza**, demostrando cómo el entrelazamiento afecta a qubits que no son directamente operados."
   ]
  },
  {
   "cell_type": "markdown",
   "id": "c13ac9ea",
   "metadata": {},
   "source": [
    "---"
   ]
  },
  {
   "cell_type": "markdown",
   "id": "c06fae91",
   "metadata": {},
   "source": [
    "## 2. Superdense Coding: Empaquetando la Información\n",
    "\n",
    "El primer protocolo que exploramos fue el \"Superdense Coding\" (Codificación Superdensa), una técnica que permite a **Alice enviar dos bits clásicos de información a Bob transmitiendo un solo qubit**."
   ]
  },
  {
   "cell_type": "markdown",
   "id": "82097be7",
   "metadata": {},
   "source": [
    "### 2.1. El Setup y la Metodología\n",
    "\n",
    "El protocolo requiere un setup específico:\n",
    "\n",
    "1. **Entrelazamiento Previo**: Alice y Bob deben compartir un estado entrelazado, típicamente un **Bell State** como $|ϕ+⟩$$=21(|00⟩+|11⟩$). Alice tiene el primer qubit de este par y Bob el segundo.\n",
    "2. **Bits Clásicos**: Alice tiene dos bits clásicos (A y B) que desea enviar.\n",
    "\n",
    "Alice aplica operaciones unitarias a su qubit basadas en los valores de A y B. Cada combinación de A y B (00, 01, 10, 11) corresponde a una transformación que convierte el estado entrelazado compartido en uno de los cuatro estados de la base de Bell.\n",
    "\n",
    "- Si A=0, B=0: Aplica la identidad (el estado se mantiene como $|ϕ+⟩$).\n",
    "- Si A=0, B=1: Aplica la compuerta X.\n",
    "- Si A=1, B=0: Aplica la compuerta Z.\n",
    "- Si A=1, B=1: Aplica la compuerta Z y luego la compuerta X.\n",
    "\n",
    "### 2.2. La Verificación Cuántica\n",
    "\n",
    "Alice luego envía físicamente su qubit a Bob a través de un canal cuántico. Bob, que ahora tiene ambos qubits, aplica un par de compuertas (un `CNOT` y un `Hadamard`) que son el inverso del proceso de preparación del Bell State. Al final, Bob mide los dos qubits y recupera con certeza los dos bits clásicos A y B que Alice quería enviar.\n",
    "\n",
    "La clave es que Alice no solo transmitió el estado de su qubit, sino también la información codificada en la correlación del par entrelazado. La demostración matemática confirmó que este protocolo funciona con una probabilidad del 100%."
   ]
  },
  {
   "cell_type": "markdown",
   "id": "51ca8ba8",
   "metadata": {},
   "source": [
    "---"
   ]
  },
  {
   "cell_type": "markdown",
   "id": "05d591cc",
   "metadata": {},
   "source": [
    "## 3. Teleportación Cuántica: Movimiento de la Información\n",
    "\n",
    "El segundo protocolo es la **Teleportación Cuántica**, que se siente como lo opuesto al Superdense Coding. Aquí, el objetivo es **enviar un estado de qubit desconocido de Alice a Bob, sin que Alice lo mida o lo sepa**."
   ]
  },
  {
   "cell_type": "markdown",
   "id": "577a1cae",
   "metadata": {},
   "source": [
    "### 3.1. El Setup y la Metodología\n",
    "\n",
    "1. **Estado a Teleportar**: Alice tiene un qubit desconocido en un estado arbitrario ∣ψ⟩=α∣0⟩+β∣1⟩.\n",
    "2. **Entrelazamiento Previo**: Alice y Bob comparten, al igual que en el caso anterior, un par entrelazado de Bell State.\n",
    "\n",
    "El proceso es como sigue:\n",
    "\n",
    "1. Alice realiza un `CNOT` y un `Hadamard` en sus dos qubits (el que quiere enviar y su parte del par entrelazado).\n",
    "2. Alice mide sus dos qubits. El resultado es un par de bits clásicos (00, 01, 10 o 11).\n",
    "3. Alice envía estos dos bits clásicos a Bob a través de un canal clásico.\n",
    "4. Bob, basado en los dos bits clásicos que recibe, aplica una de las cuatro operaciones de corrección (identidad, X, Z, o Z y X) a su qubit.\n",
    "\n",
    "**(Añade aquí un diagrama del circuito de Teleportación Cuántica)**\n",
    "\n",
    "### 3.2. ¿Realmente es Teleportación?\n",
    "\n",
    "La discusión en la clase resaltó que este protocolo **no es una teleportación al estilo Star Trek**.\n",
    "\n",
    "- **No es Instantáneo**: La información no viaja más rápido que la luz porque Alice debe enviar dos bits clásicos a Bob. Esto respeta la relatividad especial.\n",
    "- **Destruye el Original**: El estado original de Alice es destruido por la medición. El protocolo no crea una copia, sino que transfiere el estado de un lugar a otro.\n",
    "\n",
    "El protocolo es fascinante porque permite transferir el estado de un qubit, que es una cantidad continua de información (las amplitudes $α$  y $β$), usando solo dos bits clásicos. La información \"perdida\" de las amplitudes viaja a través del entrelazamiento."
   ]
  },
  {
   "cell_type": "markdown",
   "id": "27e2bc09",
   "metadata": {},
   "source": [
    "---"
   ]
  },
  {
   "cell_type": "markdown",
   "id": "8dd9b74c",
   "metadata": {},
   "source": [
    "## 4. Reflexiones del Día 5\n",
    "\n",
    "Hoy fue una clase sobre \"superpoderes\" informacionales. Entender el Superdense Coding y la Teleportación Cuántica fue un hito. Estos protocolos me mostraron cómo el entrelazamiento no es solo una curiosidad teórica, sino un recurso fundamental para realizar tareas que son imposibles en el mundo clásico. La similitud y la naturaleza inversa de los circuitos son elegantes y una prueba de la simetría en el mundo cuántico. La discusión sobre por qué esto no es como en Star Trek fue crucial para diferenciar la ciencia real de la ficción, y me da una base sólida para explicar estos conceptos de manera precisa, un punto clave para mi perfil profesional."
   ]
  }
 ],
 "metadata": {
  "language_info": {
   "name": "python"
  }
 },
 "nbformat": 4,
 "nbformat_minor": 5
}
