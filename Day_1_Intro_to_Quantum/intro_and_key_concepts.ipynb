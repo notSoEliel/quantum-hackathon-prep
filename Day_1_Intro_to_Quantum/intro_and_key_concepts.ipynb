{
 "cells": [
  {
   "cell_type": "markdown",
   "id": "4e0ffdd5",
   "metadata": {},
   "source": [
    "# 🚀 Día 1: Introducción a la Computación Cuántica - Sentando las Bases"
   ]
  },
  {
   "cell_type": "markdown",
   "id": "2fac8680",
   "metadata": {},
   "source": [
    "Este notebook documenta mi aprendizaje del Día 1 del \"QWorld OQI Hackathon QC Certification Course 2\". La sesión de hoy fue una excelente introducción al campo, enfocándose en la perspectiva de la Ciencia de la Computación y sentando las bases históricas y teóricas de por qué la computación cuántica es tan relevante hoy."
   ]
  },
  {
   "cell_type": "markdown",
   "id": "799c9cc7",
   "metadata": {},
   "source": [
    "## 1. El Propósito del Taller: Una Perspectiva de Ciencias de la Computación"
   ]
  },
  {
   "cell_type": "markdown",
   "id": "b41d9038",
   "metadata": {},
   "source": [
    "La sesión de bienvenida nos dejó este enfoque: entender la computación cuántica no desde la física profunda, sino desde **qué problemas puede resolver, cómo los resuelve y qué implicaciones tiene para la teoría de la computación**. Esto es crucial para mi objetivo de aplicar ML y QML."
   ]
  },
  {
   "cell_type": "markdown",
   "id": "db1e9b96",
   "metadata": {},
   "source": [
    "### Puntos clave:\n",
    "\n",
    "- **Enfoque en CS**: Se evita la física de materiales para concentrarse en algoritmos y complejidad.\n",
    "- **Objetivos**: Visión holística, logística del taller, preparación para sesiones técnicas y uso de grabaciones.\n",
    "- **Comunidad**: Se fomenta la participación en Discord para preguntas y apoyo mutuo."
   ]
  },
  {
   "cell_type": "markdown",
   "id": "d819533c",
   "metadata": {},
   "source": [
    "## 2. Raíces Históricas: ¿Por qué la Computación Cuántica?"
   ]
  },
  {
   "cell_type": "markdown",
   "id": "95c71722",
   "metadata": {},
   "source": [
    "La idea de la computación cuántica no surgió de la nada. Fue una respuesta a limitaciones fundamentales de las computadoras clásicas y a ideas pioneras que demostraron el poder de la información cuántica."
   ]
  },
  {
   "cell_type": "markdown",
   "id": "95cc565f",
   "metadata": {},
   "source": [
    "### 2.1. Primeros Protocolos de Información Cuántica\n",
    "\n",
    "- **Dinero Cuántico (Stephen Wiesner, 1968)**: Una idea revolucionaria que propuso una forma de dinero imposible de falsificar gracias a principios cuánticos. Esto fue mucho antes de que se formalizara la computación cuántica.\n",
    "  - - **Distribución de Claves Cuánticas (BB84, Charles Bennett y Gilles Brassard, 1984)**: Un método para establecer una clave secreta entre dos partes de forma segura, donde cualquier intento de espionaje sería detectable."
   ]
  },
  {
   "cell_type": "markdown",
   "id": "e927d932",
   "metadata": {},
   "source": [
    "### 2.2. La Motivación de Richard Feynman (1982)\n",
    "\n",
    "- Feynman planteó una pregunta fundamental: ¿Cómo simular sistemas cuánticos complejos con una computadora? Se dio cuenta de que la descripción de un sistema cuántico con muchas partículas crece exponencialmente, haciendo imposible su simulación con computadoras clásicas. Su genial idea fue: **¿Y si usamos un sistema cuántico para simular otro sistema cuántico?** Esto sentó las bases para la computación cuántica como una herramienta de simulación. *"
   ]
  },
  {
   "cell_type": "markdown",
   "id": "c72ef4c4",
   "metadata": {},
   "source": [
    "## 3. Computabilidad Clásica y Clases de Complejidad\n",
    "\n",
    "Para entender la ventaja cuántica, primero debemos entender las limitaciones clásicas."
   ]
  },
  {
   "cell_type": "markdown",
   "id": "5cf21025",
   "metadata": {},
   "source": [
    "### 3.1. La Tesis de Church-Turing\n",
    "\n",
    "Esta tesis es el pilar de la ciencia de la computación:\n",
    "\n",
    "- \"**Computable**\" = **Turing-Computable**. Cualquier problema que pueda ser resuelto por un algoritmo puede ser resuelto por una Máquina de Turing."
   ]
  },
  {
   "cell_type": "markdown",
   "id": "cbfe3240",
   "metadata": {},
   "source": [
    "### 3.2. La Tesis de Church-Turing Extendida\n",
    "\n",
    "Esta añade una capa de eficiencia:\n",
    "\n",
    "- \"**Feasibly computable in the physical world**\" = \"**Efficiently computable by a Turing machine**\" (es decir, en tiempo polinomial). Aquí es donde la computación cuántica entra en juego, ya que se cree que puede resolver ciertos problemas *más eficientemente* que las máquinas de Turing clásicas, desafiando esta \"extensión\"."
   ]
  },
  {
   "cell_type": "markdown",
   "id": "2cd723e3",
   "metadata": {},
   "source": [
    "### 3.3. Clases de Complejidad: P, NP, NP-Complete\n",
    "\n",
    "Entender estas clases es vital para saber qué problemas son difíciles para las computadoras clásicas y dónde podría haber una ventaja cuántica.\n",
    "\n",
    "- **P (Polynomial Time)**: Problemas que pueden ser resueltos por un algoritmo determinista en tiempo polinomial (eficientemente).\n",
    "  - Ejemplos: Prueba de primalidad, conectividad de grafos, determinante de matrices.\n",
    "- **NP (Nondeterministic Polynomial Time)**: Problemas cuyas *soluciones pueden ser verificadas* en tiempo polinomial. Encontrar la solución puede ser exponencialmente difícil.\n",
    "  - Ejemplos: Factorización de enteros, Problema del Viajante de Comercio, Satisfacibilidad (SAT).\n",
    "- **NP-Complete**: La clase de problemas más difíciles dentro de NP. Si se encuentra una solución eficiente para uno, se encontraría para todos los problemas en NP.\n",
    "  - Ejemplos: Problema de la mochila, 3-Coloración de grafos.\n",
    "- **P vs NP**: La gran pregunta sin resolver. ¿Es P = NP? ¿Todo lo que se puede verificar rápidamente también se puede resolver rápidamente?"
   ]
  },
  {
   "cell_type": "markdown",
   "id": "68b39258",
   "metadata": {},
   "source": [
    "## 4. Computabilidad Cuántica y la Clase BQP\n",
    "\n",
    "Las computadoras cuánticas no resuelven más problemas que las clásicas (no cambian la tesis de Church-Turing), pero pueden resolver ciertos problemas **mucho más rápido**."
   ]
  },
  {
   "cell_type": "markdown",
   "id": "1c570f55",
   "metadata": {},
   "source": [
    "### 4.1. BQP (Bounded-Error Quantum Polynomial Time)\n",
    "\n",
    "- Es la clase de problemas que pueden ser resueltos eficientemente por una computadora cuántica con un error acotado.\n",
    "- Se cree que **P** subseteq **BQP**, y **BQP** puede contener problemas que no están en **NP** o **NP-Complete**."
   ]
  },
  {
   "cell_type": "markdown",
   "id": "50170bd1",
   "metadata": {},
   "source": [
    "### 4.2. Algoritmos Cuánticos Clave\n",
    "\n",
    "- **Algoritmo de Shor (1994)**:\n",
    "  - Permite factorizar números enteros grandes en tiempo polinomial. Esto tiene implicaciones devastadoras para la criptografía clásica (ej. RSA), que se basa en la dificultad de la factorización.\n",
    "  - - **Algoritmo de Grover**:\n",
    "  - Ofrece una aceleración cuadrática para la búsqueda en bases de datos no estructuradas. No resuelve problemas NP-Complete eficientemente, pero es una mejora significativa."
   ]
  },
  {
   "cell_type": "markdown",
   "id": "6dafedde",
   "metadata": {},
   "source": [
    "## 5. Desafíos en la Construcción de Computadoras Cuánticas\n",
    "\n",
    "A pesar del potencial, construir una computadora cuántica es extremadamente difícil."
   ]
  },
  {
   "cell_type": "markdown",
   "id": "cf4a8f5e",
   "metadata": {},
   "source": [
    "### 5.1. Decoherencia y Corrección de Errores\n",
    "\n",
    "- **Decoherencia**: Los estados cuánticos son muy frágiles y se pierden fácilmente debido a la interacción con el entorno (ruido).\n",
    "- **Corrección de Errores Cuánticos**: Es fundamental para construir computadoras cuánticas tolerantes a fallos, pero es un desafío técnico enorme.\n",
    "\n",
    "### 5.2. La Era NISQ (Noisy Intermediate-Scale Quantum)\n",
    "\n",
    "- Dispositivos actuales con **50-100 qubits** que **carecen de corrección de errores completa**.\n",
    "- Son \"ruidosos\" (noisy), lo que limita lo que pueden lograr.\n",
    "\n",
    "### 5.3. La Batalla por la \"Ventaja Cuántica\" (Quantum Advantage)\n",
    "\n",
    "- Demostrar que una computadora cuántica puede resolver un problema *mucho más rápido* que la mejor computadora clásica para ese problema.\n",
    "- Ha habido afirmaciones (ej. Google, China con Boson Sampling), pero a menudo son debatidas por la comunidad (ej. respuesta de IBM). La \"meta\" clásica sigue moviéndose."
   ]
  },
  {
   "cell_type": "markdown",
   "id": "dbee3efc",
   "metadata": {},
   "source": [
    "## 6. El Panorama Global y el Futuro\n",
    "\n",
    "La computación cuántica es un campo de intensa investigación y competencia global."
   ]
  },
  {
   "cell_type": "markdown",
   "id": "94b5e8e7",
   "metadata": {},
   "source": [
    "- **Manifiestos y Leyes**: Países como EE. UU. (National Quantum Initiative Act) y Europa (Quantum Manifesto) están invirtiendo fuertemente para liderar esta revolución tecnológica.\n",
    "\n",
    "- **Aplicaciones Potenciales**: Criptografía (post-cuántica), optimización, simulación de materiales/moléculas (diseño de fármacos), y **Machine Learning** (con potencial de \"quizás\").\n",
    "\n",
    "- **Desafíos Abiertos**: Diseño de compiladores cuánticos, benchmarking de software cuántico, mitigación vs. corrección de errores, y la necesidad de iniciativas educativas interdisciplinarias."
   ]
  },
  {
   "cell_type": "markdown",
   "id": "756b3fa5",
   "metadata": {},
   "source": [
    "## Reflexiones del Día 1\n",
    "\n",
    "Hoy ha sido una inmersión fascinante en los fundamentos y la historia de la computación cuántica. Entender las limitaciones de la computación clásica y el potencial disruptivo de la cuántica es esencial para mi objetivo de fusionar ML y QML. La idea de que las computadoras cuánticas desafían la \"eficiencia\" de la Tesis de Church-Turing Extendida es un concepto poderoso que me motiva a explorar cómo podemos aprovechar esa eficiencia.\n",
    "\n",
    "Mañana, me sumergiré en los conceptos de \"One Bit\" y \"Coin Flipping\", lo que será mi primer paso práctico para entender los qubits."
   ]
  }
 ],
 "metadata": {
  "language_info": {
   "name": "python"
  }
 },
 "nbformat": 4,
 "nbformat_minor": 5
}
