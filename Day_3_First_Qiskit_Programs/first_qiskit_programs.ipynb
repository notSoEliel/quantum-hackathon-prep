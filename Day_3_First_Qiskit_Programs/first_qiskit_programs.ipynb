{
 "cells": [
  {
   "cell_type": "markdown",
   "id": "a01c10a6",
   "metadata": {},
   "source": [
    "# ⚡ Día 3: Introducción a los Sistemas Cuánticos - De la Teoría a los Qubits\n",
    "\n",
    "Este notebook documenta mi aprendizaje del Día 3 del \"QWorld OQI Hackathon QC Certification Course 2\". Hoy, finalmente, dimos el salto de la teoría clásica a los sistemas cuánticos, introduciendo conceptos como amplitudes, superposición y la notación de Dirac, y conectándolos con lo que ya sabemos de álgebra lineal."
   ]
  },
  {
   "cell_type": "markdown",
   "id": "eda8a40d",
   "metadata": {},
   "source": [
    "## 1. De los Vectores Clásicos a las Amplitudes Cuánticas\n",
    "\n",
    "La clase comenzó enfatizando que la computación cuántica se basa en una extensión del formalismo matemático que usamos para los sistemas clásicos, lo que permite una transición relativamente fluida."
   ]
  },
  {
   "cell_type": "markdown",
   "id": "867232a9",
   "metadata": {},
   "source": [
    "### 1.1. La Afirmación Central de la Física Cuántica\n",
    "\n",
    "- **Sistemas Clásicos**: Un estado con información incompleta se representa con un **vector de probabilidad** $\\hat{v}=\\begin{bmatrix}\n",
    "1 \\\\\n",
    "0 \n",
    "\\end{bmatrix}+(1−P)\\begin{bmatrix}\n",
    "0 \\\\\n",
    "1 \n",
    "\\end{bmatrix}$, donde $P≥0$.\n",
    "- **Sistemas Cuánticos**: El estado de un sistema cuántico aislado (un **qubit**) se representa con un **vector de amplitudes** $\\hat{v}=α\\begin{bmatrix}\n",
    "1 \\\\\n",
    "0 \n",
    "\\end{bmatrix}]+β\\begin{bmatrix}\n",
    "0 \\\\\n",
    "1 \n",
    "\\end{bmatrix}$, donde $α$ y $β$ son, en general, números complejos.\n",
    "\n",
    "La principal diferencia es la naturaleza de los escalares: las amplitudes ($\\alpha, \\beta$) no son probabilidades, pueden ser negativas o complejas, lo que nos abre la puerta a fenómenos como la interferencia.\n",
    "\n",
    "### 1.2. La Regla de Born y la Conexión con la Probabilidad\n",
    "\n",
    "La **Regla de Born** es el puente que conecta el mundo cuántico de las amplitudes con el mundo clásico de las probabilidades.\n",
    "\n",
    "- **Regla**: Cuando observamos un qubit, la probabilidad de encontrarlo en un estado particular es el **cuadrado de la magnitud** de su amplitud.\n",
    "    - $P(estado es 0)=∣α∣^2$\n",
    "    - $P(estado es 1)=∣β∣^2$\n",
    "- **Normalización**: Como la probabilidad total debe ser 1, se deduce que $∣α∣^2+∣β∣^2=1$.\n",
    "- **Simplificación del Taller**: En este curso, asumimos que $α$ y $β$ son **números reales**. Esto simplifica la regla a $α^2+β^2=1$, aunque seguimos obteniendo la característica clave de los signos negativos, que son imposibles en la probabilidad clásica.\n",
    "\n",
    "### 1.3. Visualizando un Qubit\n",
    "\n",
    "Para amplitudes reales, un qubit puede ser visualizado como un vector en un **círculo unitario**.\n",
    "\n",
    "- Podemos parametrizar el estado con un ángulo $θ: \\hat{v}=\\begin{bmatrix}\n",
    "cos^θ \\\\\n",
    "sin^θ \n",
    "\\end{bmatrix}$.\n",
    "- Esto nos permite visualizar cualquier estado de qubit como un punto en el círculo.\n",
    "- **Comparación Clásica**: A diferencia del espacio de estados probabilísticos clásico (un segmento de línea), el espacio de estados cuánticos es mucho más rico.\n",
    "- El estado **cero** está en el eje X ($\\theta=0$) y el estado **uno** está en el eje Y ($\\theta=\\pi/2$)."
   ]
  },
  {
   "cell_type": "markdown",
   "id": "f7a12ddf",
   "metadata": {},
   "source": [
    "---"
   ]
  },
  {
   "cell_type": "markdown",
   "id": "1656a3ff",
   "metadata": {},
   "source": [
    "## 2. Operaciones Cuánticas: Puertas y Transformaciones\n",
    "\n",
    "Para manipular un qubit, usamos transformaciones que se representan como matrices."
   ]
  },
  {
   "cell_type": "markdown",
   "id": "5f7f3fc4",
   "metadata": {},
   "source": [
    "### 2.1. Matrices Unitarias\n",
    "\n",
    "Una transformación cuántica válida debe mapear un estado de qubit a otro estado de qubit válido, lo que significa que debe preservar la normalización ($\\alpha^2 + \\beta^2 = 1$). La clase de matrices que cumple esta condición son las **matrices unitarias**.\n",
    "\n",
    "- Definición: $U^†U=I$, donde $U^†$ es la transpuesta conjugada.\n",
    "- Característica clave: Las matrices unitarias son **reversibles**. Tienen una inversa, lo que significa que toda operación cuántica puede ser deshecha. Esto contrasta con algunas transformaciones clásicas (como la de \"siempre cero\").\n",
    "\n",
    "### 2.2. Notación de Dirac (Bra-Ket)\n",
    "\n",
    "Para simplificar la escritura, la mayoría de la literatura cuántica utiliza la notación de Dirac.\n",
    "\n",
    "- **Ket (**$∣ψ⟩$**)**: Un vector columna, como por ejemplo:\n",
    "    - $∣0⟩=\\begin{bmatrix}\n",
    "    1 \\\\\n",
    "    0 \n",
    "    \\end{bmatrix}$ (estado \"cero\")\n",
    "    - $∣1⟩=\\begin{bmatrix}\n",
    "    0 \\\\\n",
    "    1 \n",
    "    \\end{bmatrix}$ (estado \"uno\")\n",
    "- **Bra (**$⟨ϕ∣$**)**: Un vector fila, la transpuesta de un ket.\n",
    "- **Producto Interno**: La multiplicación de un bra y un ket ($\\langle\\phi|\\psi\\rangle$) da un escalar.\n",
    "\n",
    "### 2.3. La Compuerta de Hadamard ($H$)\n",
    "\n",
    "La matriz de Hadamard es una de las compuertas más importantes. Es una matriz unitaria que crea una superposición de los estados de la base.\n",
    "\n",
    "- Matriz: $H=\\frac{1}{\\sqrt{2}}\\begin{bmatrix}\n",
    "1 & 1 \\\\\n",
    "1 & -1 \n",
    "\\end{bmatrix}$\n",
    "- **Operación**:\n",
    "    - $H|0⟩=\\frac{1}{\\sqrt{2}}(|0\\rangle\\ +|1⟩)\\ ≡\\ |+⟩$\n",
    "    - $H|1⟩=\\frac{1}{\\sqrt{2}}(|0⟩\\ −|1⟩)\\ ≡\\ |−⟩$\n",
    "- $|+\\rangle$ y $|-\\rangle$ forman una nueva base, llamada la **base de Hadamard**, que es tan válida como la base computacional ($|0\\rangle, |1\\rangle$)."
   ]
  },
  {
   "cell_type": "markdown",
   "id": "91a3318c",
   "metadata": {},
   "source": [
    "---"
   ]
  },
  {
   "cell_type": "markdown",
   "id": "8a4847b3",
   "metadata": {},
   "source": [
    "## 3. Comparando Lanzamientos de Monedas: Clásico vs. Cuántico\n",
    "\n",
    "La clase usó un experimento mental para destacar la diferencia entre la aleatoriedad clásica y la cuántica.\n",
    "\n",
    "- **Moneda Clásica (Matriz F)**: Una transformación que lleva cualquier estado probabilístico a una distribución uniforme (50% Cara, 50% Cruz). Si la aplicamos dos veces, el resultado sigue siendo 50/50. Si medimos a mitad de camino, el resultado final no cambia.\n",
    "- **Moneda Cuántica (Compuerta H)**: Si aplicamos la compuerta de Hadamard dos veces ($H \\cdot H$), obtenemos la matriz de identidad ($I$). Esto significa que si partimos del estado $|0⟩$, lo transformamos con H para obtener $|+⟩$ (superposición), y luego lo volvemos a transformar con H, volvemos al estado original $|0⟩$.\n",
    "- **Conclusión**: La \"aleatoriedad\" cuántica **desaparece** con la segunda aplicación, un comportamiento imposible en el mundo clásico. Esto se debe a la **interferencia destructiva** de la amplitud negativa en el estado $|-\\rangle$.\n",
    "\n",
    "### El Efecto de la Medición\n",
    "\n",
    "La diferencia más crucial surge cuando medimos.\n",
    "\n",
    "- **Sin medición intermedia**: La \"magia\" cuántica ($H \\cdot H = I$) ocurre.\n",
    "- **Con medición intermedia**: Si aplicamos H, medimos (obteniendo un 0 o un 1 con 50% de probabilidad) y luego aplicamos H de nuevo, el resultado final es indistinguible de una moneda clásica. La medición **colapsa** el estado cuántico, destruyendo la superposición y la coherencia.\n",
    "\n",
    "Esto nos lleva a una de las ideas clave: la **interferencia** es el recurso principal de la computación cuántica. Para obtener una ventaja, debemos diseñar algoritmos que permitan que las amplitudes de las respuestas correctas se refuercen (interferencia constructiva) y las de las incorrectas se cancelen (interferencia destructiva), sin medir hasta el final.\n",
    "\n",
    "##"
   ]
  },
  {
   "cell_type": "markdown",
   "id": "6f0540d9",
   "metadata": {},
   "source": [
    "---"
   ]
  },
  {
   "cell_type": "markdown",
   "id": "75658f21",
   "metadata": {},
   "source": [
    "## 4. Combinando Múltiples Qubits: Productos Tensoriales\n",
    "\n",
    "Tal como en el caso clásico, el estado de múltiples qubits se representa con el **producto tensorial** de los estados individuales.\n",
    "\n",
    "- Un sistema de n qubits tiene un vector de amplitudes de tamaño $2^n$.\n",
    "- Esta es la razón por la que un simulador clásico de una computadora cuántica requiere una memoria y un tiempo exponencial: necesita almacenar y operar con un vector de este tamaño.\n",
    "- Un estado de múltiples qubits que puede ser descompuesto en un producto tensorial de estados individuales se llama **separable**.\n",
    "- Un estado que no puede ser descompuesto se llama **entrelazado**. Aquí es donde el poder cuántico realmente reside.\n",
    "\n",
    "### ¿Cuándo un sistema cuántico puede ser simulado eficientemente de forma clásica?\n",
    "\n",
    "La sesión concluyó con una pregunta clave: un sistema de $n$ qubits puede ser simulado eficientemente en una computadora clásica si el estado de todo el sistema es **separable**, es decir, si puede ser expresado como el producto tensorial de los n estados de qubit individuales. En este caso, solo necesitas almacenar n amplitudes ($\\alpha_i$) en lugar de $2^n$ amplitudes."
   ]
  },
  {
   "cell_type": "markdown",
   "id": "a31c2a6a",
   "metadata": {},
   "source": [
    "---"
   ]
  },
  {
   "cell_type": "markdown",
   "id": "01e6b92a",
   "metadata": {},
   "source": [
    "## 5. Reflexiones del Día 3\n",
    "Hoy, la teoría abstracta se ha vuelto mucho más concreta. La clase conectó directamente conceptos como amplitudes y matrices unitarias con un comportamiento observable y \"no-clásico\" a través del experimento de la moneda cuántica. Entender que el entrelazamiento es la versión cuántica de las correlaciones clásicas, pero con un poder mucho mayor, es un hito crucial. Ahora estoy listo para empezar a programar con Qiskit."
   ]
  }
 ],
 "metadata": {
  "language_info": {
   "name": "python"
  }
 },
 "nbformat": 4,
 "nbformat_minor": 5
}
