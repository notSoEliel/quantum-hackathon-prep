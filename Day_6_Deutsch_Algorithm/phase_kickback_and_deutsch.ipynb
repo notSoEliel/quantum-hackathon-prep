{
 "cells": [
  {
   "cell_type": "markdown",
   "id": "11614ebb",
   "metadata": {},
   "source": [
    "# 🎯 Día 6: Algoritmos Cuánticos de Consulta - Deutsch y Phase Kickback\n",
    "\n",
    "Este notebook documenta mi aprendizaje del Día 6 del \"QWorld OQI Hackathon QC Certification Course 2\". Hoy dimos un salto crucial desde los protocolos de información a los primeros **algoritmos cuánticos** diseñados para resolver problemas computacionales. La sesión se centró en la implementación de transformaciones reversibles y el **Algoritmo de Deutsch**."
   ]
  },
  {
   "cell_type": "markdown",
   "id": "1818fc1a",
   "metadata": {},
   "source": [
    "## 1. Implementando Lógica Clásica de Forma Reversible\n",
    "\n",
    "El primer desafío para construir algoritmos cuánticos es que todas las operaciones deben ser **unitarias** y, por lo tanto, **reversibles**. Esto contrasta con la computación clásica, donde las compuertas como `AND` o `OR` son inherentemente irreversibles (pierden información)."
   ]
  },
  {
   "cell_type": "markdown",
   "id": "14e95025",
   "metadata": {},
   "source": [
    "### 1.1. La Computación Reversible\n",
    "\n",
    "Para hacer que una operación clásica `f(x)` sea reversible, usamos un truco:\n",
    "\n",
    "- La entrada `x` se mantiene sin cambios en la salida.\n",
    "- El resultado de la función `f(x)` se \"almacena\" en un bit auxiliar (`ancilla bit`) que inicialmente está en 0.\n",
    "- La operación se realiza mediante una `XOR` controlada: el valor de `f(x)` se suma (XOR) al bit auxiliar.\n",
    "- Esto nos permite recuperar la información original `x` simplemente invirtiendo el circuito.\n",
    "\n",
    "La compuerta `CCNOT` (Toffoli) que vimos anteriormente es un ejemplo perfecto de una compuerta universal reversible que puede construir cualquier otra compuerta clásica.\n",
    "\n",
    "### 1.2. El Oráculo Cuántico (Bf)\n",
    "\n",
    "En el contexto cuántico, representamos una función clásica `f` con un operador unitario llamado **oráculo** o **caja negra**, denotado como Bf.\n",
    "\n",
    "- **Operación**: $Bf|a⟩|b⟩→|a⟩|b⊕f(a)⟩$\n",
    "- `a`: Qubit de entrada.\n",
    "- `b`: Qubit auxiliar (`ancilla`), donde se almacena el resultado de la función `f(a)`.\n",
    "- $\\oplus$ : Operador XOR.\n",
    "\n",
    "Esta notación es clave: el oráculo es una caja negra que nos permite calcular `f(a)` sin conocer su implementación interna. Los algoritmos de consulta (`query algorithms`) miden su eficiencia en el número de veces que se llama a este oráculo."
   ]
  },
  {
   "cell_type": "markdown",
   "id": "5894791f",
   "metadata": {},
   "source": [
    "---"
   ]
  },
  {
   "cell_type": "markdown",
   "id": "b28b8f0c",
   "metadata": {},
   "source": [
    "## 2. El Truco del \"Phase Kickback\"\n",
    "\n",
    "La técnica del \"Phase Kickback\" (o Retroalimentación de Fase) es el corazón de muchos algoritmos cuánticos. Nos permite transferir el resultado de una función de la amplitud de un qubit al **signo (fase)** del estado de otro qubit."
   ]
  },
  {
   "cell_type": "markdown",
   "id": "3ae744e3",
   "metadata": {},
   "source": [
    "### 2.1. El Mecanismo\n",
    "\n",
    "1. **Estado Auxiliar**: Inicializamos el qubit auxiliar (`ancilla`) en el estado  $|−⟩=\\frac{1}{\\sqrt{2}}(∣0⟩−∣1⟩)$.\n",
    "2. **Oráculo**: Aplicamos el oráculo Bf a un estado de entrada ∣a⟩ y al estado auxiliar ∣−⟩.\n",
    "3. **Resultado**: Después de la operación, el estado de salida es: $Bf|a⟩|−⟩=(−1)^{f(a)}|a⟩|−⟩$.\n",
    "\n",
    "El valor de la función `f(a)` ya no se encuentra en el estado del qubit auxiliar ($|-\\rangle$), sino en el **signo** del estado del qubit de entrada ∣a⟩. Este signo se llama \"fase\" y es la clave para la interferencia cuántica."
   ]
  },
  {
   "cell_type": "markdown",
   "id": "ec604081",
   "metadata": {},
   "source": [
    "---"
   ]
  },
  {
   "cell_type": "markdown",
   "id": "4980f8b0",
   "metadata": {},
   "source": [
    "## 3. El Algoritmo de Deutsch\n",
    "\n",
    "El **Algoritmo de Deutsch** es históricamente el primer ejemplo de un problema donde una computadora cuántica puede ser más eficiente que una clásica."
   ]
  },
  {
   "cell_type": "markdown",
   "id": "cf73a02c",
   "metadata": {},
   "source": [
    "### 3.1. El Problema\n",
    "\n",
    "Se nos da una función $f:{0,1}→{0,1}$, y se nos promete que es una de dos tipos:\n",
    "\n",
    "- **Constante**: `f(0) = f(1)` (la función es siempre 0 o siempre 1).\n",
    "- **Balanceada**: `f(0) ≠ f(1)` (la función es la identidad o la negación).\n",
    "\n",
    "El objetivo no es saber cuál es la función, sino simplemente determinar si es **constante o balanceada**.\n",
    "\n",
    "### 3.2. La Solución Clásica\n",
    "\n",
    "Para resolver este problema de forma clásica, necesitamos evaluar la función dos veces: una para la entrada 0 y otra para la entrada 1. Si los resultados son iguales, es constante; si son diferentes, es balanceada. Por lo tanto, se necesitan **dos llamadas al oráculo**.\n",
    "\n",
    "### 3.3. La Solución Cuántica\n",
    "\n",
    "El algoritmo de Deutsch usa solo **una llamada al oráculo** para resolver el problema.\n",
    "\n",
    "1. **Inicialización**: Se preparan los dos qubits en el estado $|0⟩|1⟩$.\n",
    "2. **Hadamard**: Se aplican dos compuertas de Hadamard a ambos qubits, creando un estado de superposición. El qubit auxiliar se convierte en el estado $|−⟩$, lo que nos permite usar el \"Phase Kickback\".\n",
    "3. **Oráculo**: Se aplica el oráculo Bf. El valor de la función se codifica en el signo del qubit de entrada.\n",
    "4. **Hadamard Final**: Se aplica un último Hadamard al primer qubit. El estado final es $|f(0)⊕f(1)⟩|−⟩$.\n",
    "5. **Medición**: Al medir el primer qubit, el resultado es 0 si la función era constante y 1 si era balanceada.\n",
    "\n",
    "### 3.4. La Ventaja Cuántica\n",
    "\n",
    "El algoritmo de Deutsch demuestra una **ventaja cuántica de 2 a 1**. Mientras que un algoritmo clásico necesita dos consultas al oráculo para resolver el problema, el algoritmo de Deutsch lo resuelve con una sola. Esta es una prueba temprana del poder del paralelismo cuántico y la interferencia."
   ]
  },
  {
   "cell_type": "markdown",
   "id": "9491f83f",
   "metadata": {},
   "source": [
    "---"
   ]
  },
  {
   "cell_type": "markdown",
   "id": "ad8d0983",
   "metadata": {},
   "source": [
    "## 4. Reflexiones del Día 6\n",
    "\n",
    "Hoy he visto cómo la teoría se convierte en una ventaja tangible. El concepto de la fase, que parecía un detalle menor en las primeras clases, es en realidad la clave que desbloquea el poder de la computación cuántica. El \"Phase Kickback\" es una técnica increíblemente elegante para obtener información de una función sin colapsar el estado cuántico. El Algoritmo de Deutsch, aunque simple, es un hito histórico que demuestra que los algoritmos cuánticos pueden ser fundamentalmente más eficientes que los clásicos para ciertos problemas."
   ]
  }
 ],
 "metadata": {
  "language_info": {
   "name": "python"
  }
 },
 "nbformat": 4,
 "nbformat_minor": 5
}
