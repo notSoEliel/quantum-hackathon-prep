{
 "cells": [
  {
   "cell_type": "markdown",
   "id": "7dd505e7",
   "metadata": {},
   "source": [
    "# 📊 Día 4: Visualización y Operaciones Cuánticas - De la Teoría a los Circuitos\n",
    "\n",
    "Este notebook documenta mi aprendizaje del Día 4 del \"QWorld OQI Hackathon QC Certification Course 2\". Hoy, hicimos la transición de la teoría abstracta a la práctica, explorando cómo visualizar operaciones cuánticas y cómo construir y ejecutar nuestro primer circuito en **Qiskit**. La sesión combinó la teoría del círculo unitario con la práctica del código, un paso crucial en mi formación."
   ]
  },
  {
   "cell_type": "markdown",
   "id": "9be76a2d",
   "metadata": {},
   "source": [
    "## 1. Repaso Rápido y Visualización en el Círculo Unitario\n",
    "\n",
    "La sesión comenzó con un repaso de los conceptos clave del Día 3: estados cuánticos, matrices unitarias y la regla de Born. Luego, exploramos visualmente cómo las operaciones cuánticas afectan a un qubit en el círculo unitario."
   ]
  },
  {
   "cell_type": "markdown",
   "id": "4c42d55a",
   "metadata": {},
   "source": [
    "### 1.1. Operadores Clave y su Representación Visual\n",
    "\n",
    "- **Operador Rotación**: Cualquier rotación reversible en el círculo unitario es una operación cuántica válida. Una rotación por un ángulo θ se describe con la matriz:\n",
    "$R(θ)=\\begin{bmatrix}\n",
    "cosθ & −sinθ \\\\\n",
    "sinθ & cosθ \n",
    "\\end{bmatrix}$\n",
    "- **Operador Pauli-X (`X`)**: Es el análogo cuántico del operador NOT clásico. Su efecto en el círculo unitario es una **reflexión a través de la línea** $y=x$. Convierte $|0⟩$ en $|1⟩$ y $|1⟩$ en $|0⟩$.\n",
    "- **Operador Pauli-Z (`Z`)**: Este operador introduce un signo negativo en el estado ∣1⟩. Su efecto visual es una **reflexión a través del eje X**. No tiene un análogo directo en la lógica clásica y es un ejemplo perfecto del poder de las amplitudes con signos.\n",
    "- **Operador Hadamard (`H`)**: Vimos que el Hadamard convierte los estados de la base computacional ($|0\\rangle, |1\\rangle$) en estados de superposición ($|+\\rangle, |-\\rangle$). Su acción visual es una **rotación y reflexión** que intercambia los ejes X y Z.\n",
    "\n",
    "La sesión enfatizó que entender lo que cada operador hace en los estados de la base es suficiente para deducir su efecto en cualquier estado de superposición."
   ]
  },
  {
   "cell_type": "markdown",
   "id": "521ad676",
   "metadata": {},
   "source": [
    "---"
   ]
  },
  {
   "cell_type": "markdown",
   "id": "5d0fdd40",
   "metadata": {},
   "source": [
    "## 2. ¡Manos a la Obra con Qiskit!\n",
    "\n",
    "La parte más emocionante fue la introducción a la programación cuántica. El taller utilizó Qiskit para construir y simular circuitos cuánticos."
   ]
  },
  {
   "cell_type": "markdown",
   "id": "fa40e2ff",
   "metadata": {},
   "source": [
    "### 2.1. Estructura de un Programa Qiskit\n",
    "\n",
    "Un programa básico en Qiskit sigue una estructura clara:\n",
    "\n",
    "1. **Registros**: Se definen registros cuánticos (`QuantumRegister`) para los qubits y registros clásicos (`ClassicalRegister`) para almacenar los resultados de las mediciones.\n",
    "2. **Circuito**: Se crea un objeto `QuantumCircuit` que une los registros.\n",
    "3. **Operaciones**: Se aplican las compuertas cuánticas (por ejemplo, `qc.h(q[0])` para aplicar Hadamard al primer qubit).\n",
    "4. **Medición**: Se miden los qubits y los resultados se almacenan en los bits clásicos (por ejemplo, `qc.measure(q, c)`).\n",
    "5. **Simulación**: Se ejecuta el circuito en un simulador (como `Aer.get_backend('aer_simulator')`) con un número específico de `shots` para obtener estadísticas de los resultados.\n",
    "\n",
    "### 2.2. Un Circuito de Ejemplo: Generando un Bell State\n",
    "\n",
    "La sesión nos guió a través de un ejemplo de código para crear un **Bell State**, un estado de dos qubits que están máximamente entrelazados.\n",
    "\n",
    "- **Circuito**: Se aplica una compuerta Hadamard (`H`) al primer qubit (inicialmente en ∣0⟩) para ponerlo en superposición ($|+\\rangle$). Luego, se aplica una compuerta `CNOT` (Controlled-NOT), donde el primer qubit controla al segundo.\n",
    "- **Estado Final**: El circuito genera el estado  $|Φ^+⟩=\\frac{1}{\\sqrt{2}}(|00⟩+|11⟩)$, un estado que muestra una **correlación cuántica perfecta**. Cuando se mide un qubit, el otro se \"colapsa\" instantáneamente en el mismo estado.\n",
    "\n",
    "### 2.3. Entrelazamiento vs. Correlación Clásica\n",
    "\n",
    "El Bell State es el ejemplo perfecto de un estado **entrelazado**. A diferencia de la correlación clásica (por ejemplo, saber que si saco un papel rojo de una de dos bolsas, el otro también es rojo), el entrelazamiento cuántico no puede explicarse con variables ocultas. Es una correlación más profunda y fundamental, que es la base de fenómenos como la teletransportación cuántica."
   ]
  },
  {
   "cell_type": "markdown",
   "id": "0d9bd172",
   "metadata": {},
   "source": [
    "---"
   ]
  },
  {
   "cell_type": "markdown",
   "id": "e2249918",
   "metadata": {},
   "source": [
    "## 3. Evaluando un Circuito Complejo\n",
    "\n",
    "La sesión concluyó con un ejercicio de cálculo manual de un circuito más complejo que involucraba tres qubits y una compuerta `CCNOT` (Toffoli).\n",
    "\n",
    "- **Circuito**: Un circuito con una compuerta `H` en el primer qubit, seguido por un `CCNOT` entre los tres qubits, y un `H` final en el primer qubit.\n",
    "- **Conclusión del Cálculo**: La intuición de que el primer `H` y el segundo `H` se cancelarían ($H \\cdot H = I$) fue incorrecta. El estado de los otros qubits, influenciado por la compuerta `CCNOT`, impidió que los Hadamard se cancelaran. El resultado fue una probabilidad no trivial de que el primer qubit fuera medido en el estado $|1⟩$, demostrando que la correlación (entrelazamiento) en el sistema afecta incluso a qubits que aparentemente no interactúan."
   ]
  },
  {
   "cell_type": "markdown",
   "id": "d37314bd",
   "metadata": {},
   "source": [
    "---"
   ]
  },
  {
   "cell_type": "markdown",
   "id": "10e9db63",
   "metadata": {},
   "source": [
    "## 4. Reflexiones del Día 4\n",
    "\n",
    "La clase de hoy unió los puntos entre la teoría del álgebra lineal y la programación práctica. Entender visualmente cómo las compuertas transforman un qubit en el círculo unitario me da una intuición mucho más fuerte. Sin embargo, el ejercicio del `CCNOT` fue una lección poderosa: el entrelazamiento cuántico no es intuitivo y puede tener efectos sorprendentes. La práctica con Qiskit será vital para verificar estos comportamientos y construir una intuición de primera mano, lo que me servirá de preparación para el hackathon."
   ]
  }
 ],
 "metadata": {
  "language_info": {
   "name": "python"
  }
 },
 "nbformat": 4,
 "nbformat_minor": 5
}
