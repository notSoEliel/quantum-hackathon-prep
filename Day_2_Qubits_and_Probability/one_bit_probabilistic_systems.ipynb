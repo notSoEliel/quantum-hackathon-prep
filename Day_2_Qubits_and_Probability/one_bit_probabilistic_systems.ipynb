{
 "cells": [
  {
   "cell_type": "markdown",
   "id": "7ceae709",
   "metadata": {},
   "source": [
    "# 🚀 Día 2: Bits Clásicos y Probabilidad - La Puerta a lo Cuántico"
   ]
  },
  {
   "cell_type": "markdown",
   "id": "1af1ece0",
   "metadata": {},
   "source": [
    "Este notebook documenta mi aprendizaje del Día 2 del \"QWorld OQI Hackathon QC Certification Course 2\". La sesión de hoy se centró en los fundamentos de los sistemas clásicos, la probabilidad y las transformaciones. Comprender esta base es esencial para apreciar la diferencia crucial que introduce la mecánica cuántica."
   ]
  },
  {
   "cell_type": "markdown",
   "id": "26a9be3a",
   "metadata": {},
   "source": [
    "## 0. Momento de apreciación\n",
    "\n",
    "En verdad me quiero tomar este momento para apreciar al profesor y su chiste que curiosamente me causó gracia y creo que se lo comenzaré a contar a mis amigos jeje. Y también por hacer la clase más interactiva preguntandonos por nuestros superpoderes c: personalmente me quedo con el de no tener que dormir si no quiero, pero me encanta el de manipular las probabilidades."
   ]
  },
  {
   "cell_type": "markdown",
   "id": "1980cf1d",
   "metadata": {},
   "source": [
    "## 1. Sistemas Clásicos Deterministas\n",
    "\n",
    "Antes de hablar de qubits, entendamos los bits clásicos en su forma más simple: determinista."
   ]
  },
  {
   "cell_type": "markdown",
   "id": "ce7461bb",
   "metadata": {},
   "source": [
    "### 1.1. Espacios de Estados Finitos\n",
    "\n",
    "- Un sistema físico clásico puede ser abstraído como un conjunto finito de estados $Σ$.\n",
    "- **Ejemplo**: Una moneda tiene dos estados, **Cara** (H o 1) y **Cruz** (T o 0). Un sistema de $n$ bits tiene $2^n$ estados. Esta relación exponencial es la que comienza a mostrar las limitaciones de la computación clásica a medida que los sistemas crecen.\n",
    "\n",
    "### 1.2. Evolución Determinista\n",
    "\n",
    "- Las transformaciones se describen por funciones $f:Σ→Σ$. Cada función representa una regla lógica que mapea un estado de entrada a un estado de salida de manera predecible.\n",
    "- Para un sistema de 2 estados (un bit), existen 4 funciones deterministas, incluyendo la negación (`NOT`). Estas son la base de toda la lógica digital que conocemos.\n",
    "- Para $n$ bits, el número de estados es $N=2n$. El número de posibles funciones (o algoritmos) que podemos crear para mapear estos $N$ estados a un solo bit (una respuesta de sí/no) es $2^N={2^2}^n$. Esto demuestra que el espacio de los algoritmos crece de forma \"súper exponencial\", lo que hace que encontrar un buen algoritmo sea un gran desafío. Este inmenso espacio de búsqueda es una de las principales motivaciones para buscar nuevos paradigmas computacionales."
   ]
  },
  {
   "cell_type": "markdown",
   "id": "d94fd099",
   "metadata": {},
   "source": [
    "## 2. Modelado Probabilístico de Sistemas Clásicos\n",
    "\n",
    "En el mundo real, rara vez tenemos información perfecta. La incertidumbre es un factor constante que debemos modelar."
   ]
  },
  {
   "cell_type": "markdown",
   "id": "ec840711",
   "metadata": {},
   "source": [
    "### 2.1. Vectores de Probabilidad\n",
    "\n",
    "- Cuando la información es incompleta, usamos una **distribución de probabilidad** sobre los estados. En lugar de saber que un sistema está en el estado 0 o 1, decimos que existe con una probabilidad $P$ de estar en 0 y una probabilidad de $1−P$ de estar en 1.\n",
    "- Para un bit, esto se representa como un vector  $\\hat{V}=[P,1−P]^T$, donde $P$ es la probabilidad del estado 0. La visualización de este espacio es muy simple pero fundamental.\n",
    "- Gráficamente, el espacio de todos los estados probabilísticos de un bit es un **segmento de línea** que va desde el vector $[1,0]^T$ (certeza de que el estado es 0) hasta el vector $[0,1]^T$ (certeza de que el estado es 1). Cualquier punto en esta línea representa un estado con alguna incertidumbre.\n",
    "\n",
    "### 2.2. Transformaciones Probabilísticas\n",
    "\n",
    "- Las transformaciones que operan sobre estos estados probabilísticos se representan mediante **matrices estocásticas**. Estas matrices son el análogo de las funciones deterministas, pero para el mundo probabilístico.\n",
    "- Estas matrices tienen entradas no negativas y las columnas suman 1. El requisito de que las columnas sumen 1 asegura que la probabilidad total se conserva (el sistema debe estar en *algún* estado).\n",
    "- Cada entrada de la matriz puede interpretarse como una **probabilidad condicional**, $A_{ij}=P(transición\\ a\\ estado\\ i\\ en\\ estado\\ j)$. Por ejemplo, la entrada $A_{01}$ representa la probabilidad de que el sistema se mueva al estado 0, dado que originalmente estaba en el estado 1.\n",
    "- Las transformaciones deterministas (como la negación) corresponden a un subconjunto de estas matrices, específicamente a matrices de permutación, donde en cada columna solo hay un 1 y el resto son 0s."
   ]
  },
  {
   "cell_type": "markdown",
   "id": "f46e3697",
   "metadata": {},
   "source": [
    "## 3. Combinando Sistemas: Productos Tensoriales y Correlaciones\n",
    "\n",
    "¿Cómo describimos múltiples sistemas y sus interacciones?"
   ]
  },
  {
   "cell_type": "markdown",
   "id": "4c576d2e",
   "metadata": {},
   "source": [
    "### 3.1. Estado Conjunto\n",
    "\n",
    "- El estado de un sistema compuesto por n subsistemas se representa usando el **producto tensorial** ($⊗$) de sus vectores de probabilidad individuales. Este operador nos permite combinar la información de sistemas separados en un solo vector de mayor dimensión.\n",
    "- Para dos bits con vectores de probabilidad $P$ y $Q$, el estado conjunto es $P⊗Q$, lo que resulta en un vector de $2×2=4$ dimensiones. Este vector contiene la probabilidad de todas las combinaciones posibles de los estados de los dos bits (00, 01, 10, 11).\n",
    "- Para n sistemas, el vector resultante tiene una dimensión de $2^n$, lo que ilustra una vez más el crecimiento exponencial de los recursos necesarios para modelar sistemas clásicos con muchos componentes.\n",
    "\n",
    "### 3.2. Correlaciones Clásicas\n",
    "\n",
    "- Una distribución de probabilidad conjunta es **independiente** si puede ser factorizada como un producto tensorial. Esto significa que el estado de un sistema no influye en el estado del otro.\n",
    "- Una distribución es **correlacionada** si no se puede expresar de esta forma. Esto indica que existe una dependencia entre los estados de los sistemas, aunque no se hayan influenciado directamente en un momento dado.\n",
    "- **Ejemplo:** El vector de probabilidad $[1/2,0,0,1/2]^T$ representa un estado donde los bits siempre son iguales (ambos 0 o ambos 1). Esta distribución no se puede descomponer en un producto tensorial, lo que significa que los dos bits están correlacionados de manera clásica. Esta correlación puede explicarse con una \"variable oculta\" o una influencia compartida en su pasado.\n",
    "\n",
    "### 3.3. Analogía con lo Cuántico\n",
    "\n",
    "- Este concepto de correlación clásica es el análogo de lo que en el mundo cuántico llamamos **entrelazamiento**. La diferencia es que en el mundo cuántico, las correlaciones pueden ser mucho más extrañas y fuertes, no explicables por variables ocultas clásicas."
   ]
  },
  {
   "cell_type": "markdown",
   "id": "131e8538",
   "metadata": {},
   "source": [
    "## 4. Reflexiones del Día 2\n",
    "\n",
    "Hoy he comprendido la importancia de la formalización matemática en la computación clásica, especialmente con la introducción de la probabilidad. Entender que los estados pueden ser vectores y las transformaciones matrices es una base sólida para el próximo paso: ver cómo estas ideas se extienden con la superposición y los amplitudes de probabilidad en el mundo cuántico. El concepto de correlación clásica es particularmente interesante, ya que es el precursor lógico de lo que será el entrelazamiento cuántico. Me emociona ver cómo los `vectores` y `matrices` de hoy se transformarán en `amplitudes` y `operadores unitarios` en los próximos días."
   ]
  }
 ],
 "metadata": {
  "language_info": {
   "name": "python"
  }
 },
 "nbformat": 4,
 "nbformat_minor": 5
}
